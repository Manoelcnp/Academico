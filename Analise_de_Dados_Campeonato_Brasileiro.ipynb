{
  "nbformat": 4,
  "nbformat_minor": 0,
  "metadata": {
    "colab": {
      "name": "Analise de Dados Campeonato Brasileiro.ipynb",
      "provenance": [],
      "authorship_tag": "ABX9TyOr5ZITLMB4YTNZcZbFfcf2",
      "include_colab_link": true
    },
    "kernelspec": {
      "name": "python3",
      "display_name": "Python 3"
    }
  },
  "cells": [
    {
      "cell_type": "markdown",
      "metadata": {
        "id": "view-in-github",
        "colab_type": "text"
      },
      "source": [
        "<a href=\"https://colab.research.google.com/github/Manoelcnp/Academico/blob/main/Analise_de_Dados_Campeonato_Brasileiro.ipynb\" target=\"_parent\"><img src=\"https://colab.research.google.com/assets/colab-badge.svg\" alt=\"Open In Colab\"/></a>"
      ]
    },
    {
      "cell_type": "code",
      "metadata": {
        "id": "aPY0o1ynogx_"
      },
      "source": [
        "## Importação do Pandas e Numpy"
      ],
      "execution_count": null,
      "outputs": []
    },
    {
      "cell_type": "code",
      "metadata": {
        "id": "uZlz7hIWeC_2"
      },
      "source": [
        "import pandas as pd\r\n",
        "import numpy as np"
      ],
      "execution_count": null,
      "outputs": []
    },
    {
      "cell_type": "code",
      "metadata": {
        "id": "w9f1qYX8oxLn"
      },
      "source": [
        "## Leia o arquivo 'campeonato-brasileiro-full.scv' e chame de df "
      ],
      "execution_count": null,
      "outputs": []
    },
    {
      "cell_type": "code",
      "metadata": {
        "id": "PUm1g8gHpFDe"
      },
      "source": [
        "df = pd.read_csv('/content/campeonato-brasileiro-full.csv')"
      ],
      "execution_count": null,
      "outputs": []
    },
    {
      "cell_type": "code",
      "metadata": {
        "id": "YGgBaA7lreTW"
      },
      "source": [
        "## Visualize as 5 primeiras linhas do DF"
      ],
      "execution_count": null,
      "outputs": []
    },
    {
      "cell_type": "code",
      "metadata": {
        "colab": {
          "base_uri": "https://localhost:8080/",
          "height": 326
        },
        "id": "9O2xi3HNpXIP",
        "outputId": "b687a3a6-a12f-43c5-e082-fe3613944452"
      },
      "source": [
        "df.head()"
      ],
      "execution_count": null,
      "outputs": [
        {
          "output_type": "execute_result",
          "data": {
            "text/html": [
              "<div>\n",
              "<style scoped>\n",
              "    .dataframe tbody tr th:only-of-type {\n",
              "        vertical-align: middle;\n",
              "    }\n",
              "\n",
              "    .dataframe tbody tr th {\n",
              "        vertical-align: top;\n",
              "    }\n",
              "\n",
              "    .dataframe thead th {\n",
              "        text-align: right;\n",
              "    }\n",
              "</style>\n",
              "<table border=\"1\" class=\"dataframe\">\n",
              "  <thead>\n",
              "    <tr style=\"text-align: right;\">\n",
              "      <th></th>\n",
              "      <th>Rodada</th>\n",
              "      <th>Data</th>\n",
              "      <th>Horário</th>\n",
              "      <th>Dia</th>\n",
              "      <th>Mandante</th>\n",
              "      <th>Visitante</th>\n",
              "      <th>Vencedor</th>\n",
              "      <th>Arena</th>\n",
              "      <th>Mandante Placar</th>\n",
              "      <th>Visitante Placar</th>\n",
              "      <th>Estado Mandante</th>\n",
              "      <th>Estado Visitante</th>\n",
              "      <th>Estado Vencedor</th>\n",
              "    </tr>\n",
              "  </thead>\n",
              "  <tbody>\n",
              "    <tr>\n",
              "      <th>0</th>\n",
              "      <td>1</td>\n",
              "      <td>2000-07-29</td>\n",
              "      <td>16h00</td>\n",
              "      <td>Sábado</td>\n",
              "      <td>Fluminense</td>\n",
              "      <td>Bahia</td>\n",
              "      <td>Fluminense</td>\n",
              "      <td>Maracanã</td>\n",
              "      <td>2</td>\n",
              "      <td>0</td>\n",
              "      <td>RJ</td>\n",
              "      <td>BA</td>\n",
              "      <td>RJ</td>\n",
              "    </tr>\n",
              "    <tr>\n",
              "      <th>1</th>\n",
              "      <td>1</td>\n",
              "      <td>2000-07-29</td>\n",
              "      <td>16h00</td>\n",
              "      <td>Sábado</td>\n",
              "      <td>Vasco</td>\n",
              "      <td>Sport</td>\n",
              "      <td>Sport</td>\n",
              "      <td>São Januário</td>\n",
              "      <td>0</td>\n",
              "      <td>2</td>\n",
              "      <td>RJ</td>\n",
              "      <td>PE</td>\n",
              "      <td>PE</td>\n",
              "    </tr>\n",
              "    <tr>\n",
              "      <th>2</th>\n",
              "      <td>1</td>\n",
              "      <td>2000-07-29</td>\n",
              "      <td>16h00</td>\n",
              "      <td>Sábado</td>\n",
              "      <td>Vitória</td>\n",
              "      <td>Palmeiras</td>\n",
              "      <td>Vitória</td>\n",
              "      <td>Barradão</td>\n",
              "      <td>4</td>\n",
              "      <td>1</td>\n",
              "      <td>ES</td>\n",
              "      <td>SP</td>\n",
              "      <td>ES</td>\n",
              "    </tr>\n",
              "    <tr>\n",
              "      <th>3</th>\n",
              "      <td>1</td>\n",
              "      <td>2000-07-30</td>\n",
              "      <td>17h00</td>\n",
              "      <td>Domingo</td>\n",
              "      <td>Botafogo-RJ</td>\n",
              "      <td>Atlético-MG</td>\n",
              "      <td>-</td>\n",
              "      <td>Caio Martins</td>\n",
              "      <td>0</td>\n",
              "      <td>0</td>\n",
              "      <td>RJ</td>\n",
              "      <td>MG</td>\n",
              "      <td>-</td>\n",
              "    </tr>\n",
              "    <tr>\n",
              "      <th>4</th>\n",
              "      <td>1</td>\n",
              "      <td>2000-07-30</td>\n",
              "      <td>18h30</td>\n",
              "      <td>Domingo</td>\n",
              "      <td>Juventude</td>\n",
              "      <td>Flamengo</td>\n",
              "      <td>-</td>\n",
              "      <td>Alfredo Jaconi</td>\n",
              "      <td>1</td>\n",
              "      <td>1</td>\n",
              "      <td>RS</td>\n",
              "      <td>RJ</td>\n",
              "      <td>-</td>\n",
              "    </tr>\n",
              "  </tbody>\n",
              "</table>\n",
              "</div>"
            ],
            "text/plain": [
              "  Rodada        Data Horário  ... Estado Mandante Estado Visitante Estado Vencedor\n",
              "0      1  2000-07-29   16h00  ...              RJ               BA              RJ\n",
              "1      1  2000-07-29   16h00  ...              RJ               PE              PE\n",
              "2      1  2000-07-29   16h00  ...              ES               SP              ES\n",
              "3      1  2000-07-30   17h00  ...              RJ               MG               -\n",
              "4      1  2000-07-30   18h30  ...              RS               RJ               -\n",
              "\n",
              "[5 rows x 13 columns]"
            ]
          },
          "metadata": {
            "tags": []
          },
          "execution_count": 10
        }
      ]
    },
    {
      "cell_type": "code",
      "metadata": {
        "id": "hAXQTxQLrp4q"
      },
      "source": [
        "## Localize a linha 310, qual jogo em qual dia foi realizada essa partida"
      ],
      "execution_count": null,
      "outputs": []
    },
    {
      "cell_type": "code",
      "metadata": {
        "colab": {
          "base_uri": "https://localhost:8080/"
        },
        "id": "Q2QHsVUDsGCX",
        "outputId": "5c3c8ac5-6535-4844-c7a5-10c4cb6ac59f"
      },
      "source": [
        "df.loc[310]"
      ],
      "execution_count": null,
      "outputs": [
        {
          "output_type": "execute_result",
          "data": {
            "text/plain": [
              "Rodada              SEGUNDA FASE\n",
              "Data                  2000-11-26\n",
              "Horário                    17h00\n",
              "Dia                      Domingo\n",
              "Mandante                CRUZEIRO\n",
              "Visitante               MALUTROM\n",
              "Vencedor                       -\n",
              "Arena                   Mineirão\n",
              "Mandante Placar                1\n",
              "Visitante Placar               1\n",
              "Estado Mandante               MG\n",
              "Estado Visitante              PR\n",
              "Estado Vencedor                -\n",
              "Name: 310, dtype: object"
            ]
          },
          "metadata": {
            "tags": []
          },
          "execution_count": 13
        }
      ]
    },
    {
      "cell_type": "code",
      "metadata": {
        "colab": {
          "base_uri": "https://localhost:8080/"
        },
        "id": "BeiGgXPQs8F5",
        "outputId": "f3302bb7-cfa9-40ce-e926-8493f9bcdd12"
      },
      "source": [
        "df.loc[310][['Mandante','Visitante']]"
      ],
      "execution_count": null,
      "outputs": [
        {
          "output_type": "execute_result",
          "data": {
            "text/plain": [
              "Mandante     CRUZEIRO\n",
              "Visitante    MALUTROM\n",
              "Name: 310, dtype: object"
            ]
          },
          "metadata": {
            "tags": []
          },
          "execution_count": 23
        }
      ]
    },
    {
      "cell_type": "code",
      "metadata": {
        "colab": {
          "base_uri": "https://localhost:8080/",
          "height": 35
        },
        "id": "85XgQHPUtfzb",
        "outputId": "4c49eb75-4519-4cae-cd22-b6b20d514401"
      },
      "source": [
        "df.loc[310]['Data']"
      ],
      "execution_count": null,
      "outputs": [
        {
          "output_type": "execute_result",
          "data": {
            "application/vnd.google.colaboratory.intrinsic+json": {
              "type": "string"
            },
            "text/plain": [
              "'2000-11-26'"
            ]
          },
          "metadata": {
            "tags": []
          },
          "execution_count": 25
        }
      ]
    },
    {
      "cell_type": "code",
      "metadata": {
        "id": "xbl8ORjzwPXJ"
      },
      "source": [
        "##Quantos gols no campeonato brasileiro foram feitos no total?"
      ],
      "execution_count": null,
      "outputs": []
    },
    {
      "cell_type": "code",
      "metadata": {
        "id": "F0xyDsPIwfvi"
      },
      "source": [
        "df['Total de Gols'] = df['Mandante Placar'] + df['Visitante Placar']"
      ],
      "execution_count": null,
      "outputs": []
    },
    {
      "cell_type": "code",
      "metadata": {
        "colab": {
          "base_uri": "https://localhost:8080/"
        },
        "id": "tAoOUWZbxHlj",
        "outputId": "3db07977-2be9-450a-d9ed-c89668526068"
      },
      "source": [
        "df['Total de Gols'].sum()"
      ],
      "execution_count": null,
      "outputs": [
        {
          "output_type": "execute_result",
          "data": {
            "text/plain": [
              "21977"
            ]
          },
          "metadata": {
            "tags": []
          },
          "execution_count": 29
        }
      ]
    },
    {
      "cell_type": "code",
      "metadata": {
        "id": "LWqw5M0KxMBE"
      },
      "source": [
        "## Qual horario teve mais jogos no campeonato brasileiro"
      ],
      "execution_count": null,
      "outputs": []
    },
    {
      "cell_type": "code",
      "metadata": {
        "colab": {
          "base_uri": "https://localhost:8080/"
        },
        "id": "Wxmi5PkAxfPl",
        "outputId": "388316a2-4f51-46d7-c1bd-2edcab739874"
      },
      "source": [
        "df['Horário'].value_counts().sort_values().head()"
      ],
      "execution_count": null,
      "outputs": [
        {
          "output_type": "execute_result",
          "data": {
            "text/plain": [
              "15:00    1\n",
              "18:45    1\n",
              "09h00    1\n",
              "22h30    1\n",
              "21:46    1\n",
              "Name: Horário, dtype: int64"
            ]
          },
          "metadata": {
            "tags": []
          },
          "execution_count": 37
        }
      ]
    },
    {
      "cell_type": "code",
      "metadata": {
        "id": "bHo4uFhYxszV"
      },
      "source": [
        "## Em qual dia da Semana?"
      ],
      "execution_count": null,
      "outputs": []
    },
    {
      "cell_type": "code",
      "metadata": {
        "colab": {
          "base_uri": "https://localhost:8080/"
        },
        "id": "dwCsaymPyg72",
        "outputId": "e4ea23e3-490f-4b06-e6af-2949dcc4f15b"
      },
      "source": [
        "df['Dia'].value_counts()"
      ],
      "execution_count": null,
      "outputs": [
        {
          "output_type": "execute_result",
          "data": {
            "text/plain": [
              "Domingo          3807\n",
              "Sábado           1925\n",
              "Quarta-feira     1559\n",
              "Quinta-feira      657\n",
              "Segunda-feira     108\n",
              "Terça-feira        85\n",
              "Quarta-Feira       83\n",
              "Quinta-Feira       39\n",
              "Sexta-feira        24\n",
              "Segunda-Feira      23\n",
              "Sexta-Feira         5\n",
              "Terça-Feira         4\n",
              "Name: Dia, dtype: int64"
            ]
          },
          "metadata": {
            "tags": []
          },
          "execution_count": 42
        }
      ]
    },
    {
      "cell_type": "code",
      "metadata": {
        "id": "Hm37DoXU0M23"
      },
      "source": [
        "## colocando as letras em miusculas"
      ],
      "execution_count": null,
      "outputs": []
    },
    {
      "cell_type": "code",
      "metadata": {
        "id": "l0mc2g9a0TjY"
      },
      "source": [
        "df['Mandante'] = df['Mandante'].str.upper()"
      ],
      "execution_count": null,
      "outputs": []
    },
    {
      "cell_type": "code",
      "metadata": {
        "id": "kTCqixt6yt3W"
      },
      "source": [
        "## QUal time mais empatou como mandante"
      ],
      "execution_count": null,
      "outputs": []
    },
    {
      "cell_type": "code",
      "metadata": {
        "colab": {
          "base_uri": "https://localhost:8080/"
        },
        "id": "-L3ILmv_zF63",
        "outputId": "6229837f-7588-4f3a-aae7-50bbcd5fb7cc"
      },
      "source": [
        "df[df['Vencedor']=='-']['Mandante'].value_counts().head(1)"
      ],
      "execution_count": null,
      "outputs": [
        {
          "output_type": "execute_result",
          "data": {
            "text/plain": [
              "FLUMINENSE    106\n",
              "Name: Mandante, dtype: int64"
            ]
          },
          "metadata": {
            "tags": []
          },
          "execution_count": 49
        }
      ]
    },
    {
      "cell_type": "code",
      "metadata": {
        "colab": {
          "base_uri": "https://localhost:8080/"
        },
        "id": "5jJTWsH5zn1J",
        "outputId": "229b6926-a444-4864-fc8c-0485df99c550"
      },
      "source": [
        "df['Visitante'] = df['Visitante'].str.upper()\r\n",
        "df[df['Vencedor']=='-']['Visitante'].value_counts().head(1)"
      ],
      "execution_count": null,
      "outputs": [
        {
          "output_type": "execute_result",
          "data": {
            "text/plain": [
              "CORINTHIANS    111\n",
              "Name: Visitante, dtype: int64"
            ]
          },
          "metadata": {
            "tags": []
          },
          "execution_count": 50
        }
      ]
    },
    {
      "cell_type": "code",
      "metadata": {
        "id": "y5WHELUc1_xI"
      },
      "source": [
        "## Time com maior numero de gols como mandante"
      ],
      "execution_count": null,
      "outputs": []
    },
    {
      "cell_type": "code",
      "metadata": {
        "id": "ew9F00tH2Iww"
      },
      "source": [
        "por_mandante = df.groupby('Mandante')"
      ],
      "execution_count": null,
      "outputs": []
    },
    {
      "cell_type": "code",
      "metadata": {
        "colab": {
          "base_uri": "https://localhost:8080/"
        },
        "id": "eWDWTwDO2_ah",
        "outputId": "138a7298-5b23-4d5f-bb62-78cf51ab6754"
      },
      "source": [
        "por_mandante['Mandante Placar'].sum().sort_values(ascending = False).head(1)"
      ],
      "execution_count": null,
      "outputs": [
        {
          "output_type": "execute_result",
          "data": {
            "text/plain": [
              "Mandante\n",
              "SANTOS    736\n",
              "Name: Mandante Placar, dtype: int64"
            ]
          },
          "metadata": {
            "tags": []
          },
          "execution_count": 56
        }
      ]
    },
    {
      "cell_type": "code",
      "metadata": {
        "id": "Pg8CRVH83KiB"
      },
      "source": [
        "## Desafio crie uma coluna apenas com o ano da partida, e responda qual time mais empatou como mandante no ano de 2019#"
      ],
      "execution_count": null,
      "outputs": []
    },
    {
      "cell_type": "code",
      "metadata": {
        "id": "KzrzX_Nj4S9M"
      },
      "source": [
        "#Dica nos temos que usar a função Lambda para isso"
      ],
      "execution_count": null,
      "outputs": []
    },
    {
      "cell_type": "code",
      "metadata": {
        "id": "JQCnKRus4eLl"
      },
      "source": [
        "df['ano'] = df['Data'].apply(lambda data : data.split('-')[0] )"
      ],
      "execution_count": null,
      "outputs": []
    },
    {
      "cell_type": "code",
      "metadata": {
        "colab": {
          "base_uri": "https://localhost:8080/"
        },
        "id": "7dfKC2xH6RVb",
        "outputId": "7370fe0c-7ee4-4b04-c4d3-1189d077a9a7"
      },
      "source": [
        "df['ano']"
      ],
      "execution_count": null,
      "outputs": [
        {
          "output_type": "execute_result",
          "data": {
            "text/plain": [
              "0       2000\n",
              "1       2000\n",
              "2       2000\n",
              "3       2000\n",
              "4       2000\n",
              "        ... \n",
              "8314    2021\n",
              "8315    2021\n",
              "8316    2021\n",
              "8317    2021\n",
              "8318    2021\n",
              "Name: ano, Length: 8319, dtype: object"
            ]
          },
          "metadata": {
            "tags": []
          },
          "execution_count": 64
        }
      ]
    },
    {
      "cell_type": "code",
      "metadata": {
        "colab": {
          "base_uri": "https://localhost:8080/"
        },
        "id": "u5recGxg6VJr",
        "outputId": "e7b0afaf-7c7a-4f1a-ff6f-036f7b519cb9"
      },
      "source": [
        "df[(df['Vencedor'] == '-')&(df['ano'] == '2021')]['Mandante'].value_counts()"
      ],
      "execution_count": null,
      "outputs": [
        {
          "output_type": "execute_result",
          "data": {
            "text/plain": [
              "PALMEIRAS        4\n",
              "CORITIBA         3\n",
              "ATLÉTICO-GO      3\n",
              "SÃO PAULO        3\n",
              "ATHLÉTICO-PR     2\n",
              "GRÊMIO           2\n",
              "CORINTHIANS      2\n",
              "BRAGANTINO       2\n",
              "SPORT            1\n",
              "FLUMINENSE       1\n",
              "FORTALEZA        1\n",
              "BAHIA            1\n",
              "INTERNACIONAL    1\n",
              "SANTOS           1\n",
              "GOIÁS            1\n",
              "VASCO            1\n",
              "ATLÉTICO-MG      1\n",
              "Name: Mandante, dtype: int64"
            ]
          },
          "metadata": {
            "tags": []
          },
          "execution_count": 66
        }
      ]
    },
    {
      "cell_type": "code",
      "metadata": {
        "id": "5XqYRqag70SW"
      },
      "source": [
        ""
      ],
      "execution_count": null,
      "outputs": []
    }
  ]
}